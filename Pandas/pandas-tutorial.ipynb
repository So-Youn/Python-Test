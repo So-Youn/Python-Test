{
 "metadata": {
  "language_info": {
   "codemirror_mode": {
    "name": "ipython",
    "version": 3
   },
   "file_extension": ".py",
   "mimetype": "text/x-python",
   "name": "python",
   "nbconvert_exporter": "python",
   "pygments_lexer": "ipython3",
   "version": "3.7.6-final"
  },
  "orig_nbformat": 2,
  "kernelspec": {
   "name": "python3",
   "display_name": "Python 3.7.6 64-bit",
   "metadata": {
    "interpreter": {
     "hash": "f85f59fea98d3427f7f616213d7ec4f299ddb9836e2016343160139db0cd9b6c"
    }
   }
  }
 },
 "nbformat": 4,
 "nbformat_minor": 2,
 "cells": [
  {
   "cell_type": "code",
   "execution_count": 2,
   "metadata": {},
   "outputs": [],
   "source": [
    "import pandas as pd\n",
    "df = pd.read_csv('ins.csv')\n",
    "\n",
    "# → row   ↓column"
   ]
  },
  {
   "cell_type": "code",
   "execution_count": 3,
   "metadata": {},
   "outputs": [
    {
     "output_type": "execute_result",
     "data": {
      "text/plain": [
       "       policyID statecode           county  eq_site_limit  hu_site_limit  \\\n",
       "36629    404309        FL  PINELLAS COUNTY            0.0        88722.0   \n",
       "36630    465875        FL  PINELLAS COUNTY      1297057.5      1297057.5   \n",
       "36631    791209        FL  PINELLAS COUNTY       173286.9       173286.9   \n",
       "36632    322627        FL  PINELLAS COUNTY      1499781.6      1499781.6   \n",
       "36633    398149        FL  PINELLAS COUNTY       373488.3       373488.3   \n",
       "\n",
       "       fl_site_limit  fr_site_limit   tiv_2011    tiv_2012  \\\n",
       "36629            0.0        88722.0    88722.0   155065.65   \n",
       "36630      1297057.5      1297057.5  1297057.5  1577500.79   \n",
       "36631            0.0            0.0   173286.9   205527.97   \n",
       "36632            0.0            0.0  1499781.6  1768782.43   \n",
       "36633            0.0            0.0   373488.3   596003.67   \n",
       "\n",
       "       eq_site_deductible  hu_site_deductible  fl_site_deductible  \\\n",
       "36629                 0.0                 0.0                 0.0   \n",
       "36630                 0.0                 0.0                 0.0   \n",
       "36631                 0.0                 0.0                 0.0   \n",
       "36632                 0.0                 0.0                 0.0   \n",
       "36633                 0.0                 0.0                 0.0   \n",
       "\n",
       "       fr_site_deductible  point_latitude  point_longitude         line  \\\n",
       "36629                   0       28.122885       -82.770218  Residential   \n",
       "36630                   0       28.080900       -82.758800  Residential   \n",
       "36631                   0       28.110550       -82.766360  Residential   \n",
       "36632                   0       28.089415       -82.697411  Residential   \n",
       "36633                   0       28.064440       -82.774590  Residential   \n",
       "\n",
       "      construction  point_granularity  \n",
       "36629         Wood                  3  \n",
       "36630      Masonry                  1  \n",
       "36631         Wood                  4  \n",
       "36632      Masonry                  3  \n",
       "36633      Masonry                  1  "
      ],
      "text/html": "<div>\n<style scoped>\n    .dataframe tbody tr th:only-of-type {\n        vertical-align: middle;\n    }\n\n    .dataframe tbody tr th {\n        vertical-align: top;\n    }\n\n    .dataframe thead th {\n        text-align: right;\n    }\n</style>\n<table border=\"1\" class=\"dataframe\">\n  <thead>\n    <tr style=\"text-align: right;\">\n      <th></th>\n      <th>policyID</th>\n      <th>statecode</th>\n      <th>county</th>\n      <th>eq_site_limit</th>\n      <th>hu_site_limit</th>\n      <th>fl_site_limit</th>\n      <th>fr_site_limit</th>\n      <th>tiv_2011</th>\n      <th>tiv_2012</th>\n      <th>eq_site_deductible</th>\n      <th>hu_site_deductible</th>\n      <th>fl_site_deductible</th>\n      <th>fr_site_deductible</th>\n      <th>point_latitude</th>\n      <th>point_longitude</th>\n      <th>line</th>\n      <th>construction</th>\n      <th>point_granularity</th>\n    </tr>\n  </thead>\n  <tbody>\n    <tr>\n      <th>36629</th>\n      <td>404309</td>\n      <td>FL</td>\n      <td>PINELLAS COUNTY</td>\n      <td>0.0</td>\n      <td>88722.0</td>\n      <td>0.0</td>\n      <td>88722.0</td>\n      <td>88722.0</td>\n      <td>155065.65</td>\n      <td>0.0</td>\n      <td>0.0</td>\n      <td>0.0</td>\n      <td>0</td>\n      <td>28.122885</td>\n      <td>-82.770218</td>\n      <td>Residential</td>\n      <td>Wood</td>\n      <td>3</td>\n    </tr>\n    <tr>\n      <th>36630</th>\n      <td>465875</td>\n      <td>FL</td>\n      <td>PINELLAS COUNTY</td>\n      <td>1297057.5</td>\n      <td>1297057.5</td>\n      <td>1297057.5</td>\n      <td>1297057.5</td>\n      <td>1297057.5</td>\n      <td>1577500.79</td>\n      <td>0.0</td>\n      <td>0.0</td>\n      <td>0.0</td>\n      <td>0</td>\n      <td>28.080900</td>\n      <td>-82.758800</td>\n      <td>Residential</td>\n      <td>Masonry</td>\n      <td>1</td>\n    </tr>\n    <tr>\n      <th>36631</th>\n      <td>791209</td>\n      <td>FL</td>\n      <td>PINELLAS COUNTY</td>\n      <td>173286.9</td>\n      <td>173286.9</td>\n      <td>0.0</td>\n      <td>0.0</td>\n      <td>173286.9</td>\n      <td>205527.97</td>\n      <td>0.0</td>\n      <td>0.0</td>\n      <td>0.0</td>\n      <td>0</td>\n      <td>28.110550</td>\n      <td>-82.766360</td>\n      <td>Residential</td>\n      <td>Wood</td>\n      <td>4</td>\n    </tr>\n    <tr>\n      <th>36632</th>\n      <td>322627</td>\n      <td>FL</td>\n      <td>PINELLAS COUNTY</td>\n      <td>1499781.6</td>\n      <td>1499781.6</td>\n      <td>0.0</td>\n      <td>0.0</td>\n      <td>1499781.6</td>\n      <td>1768782.43</td>\n      <td>0.0</td>\n      <td>0.0</td>\n      <td>0.0</td>\n      <td>0</td>\n      <td>28.089415</td>\n      <td>-82.697411</td>\n      <td>Residential</td>\n      <td>Masonry</td>\n      <td>3</td>\n    </tr>\n    <tr>\n      <th>36633</th>\n      <td>398149</td>\n      <td>FL</td>\n      <td>PINELLAS COUNTY</td>\n      <td>373488.3</td>\n      <td>373488.3</td>\n      <td>0.0</td>\n      <td>0.0</td>\n      <td>373488.3</td>\n      <td>596003.67</td>\n      <td>0.0</td>\n      <td>0.0</td>\n      <td>0.0</td>\n      <td>0</td>\n      <td>28.064440</td>\n      <td>-82.774590</td>\n      <td>Residential</td>\n      <td>Masonry</td>\n      <td>1</td>\n    </tr>\n  </tbody>\n</table>\n</div>"
     },
     "metadata": {},
     "execution_count": 3
    }
   ],
   "source": [
    "df.head()\n",
    "df.tail() # last "
   ]
  },
  {
   "cell_type": "code",
   "execution_count": 4,
   "metadata": {},
   "outputs": [
    {
     "output_type": "execute_result",
     "data": {
      "text/plain": [
       "(36634, 18)"
      ]
     },
     "metadata": {},
     "execution_count": 4
    }
   ],
   "source": [
    "df.shape # (row,column)"
   ]
  },
  {
   "cell_type": "code",
   "execution_count": 5,
   "metadata": {},
   "outputs": [
    {
     "output_type": "execute_result",
     "data": {
      "text/plain": [
       "pandas.core.frame.DataFrame"
      ]
     },
     "metadata": {},
     "execution_count": 5
    }
   ],
   "source": [
    "type(df) # pandas.core.frame.DataFrame\n",
    "df['policyID']\n",
    "type(df['policyID']) # pandas.core.series.Series"
   ]
  },
  {
   "source": [
    "# indexing \n",
    ">  slicing"
   ],
   "cell_type": "markdown",
   "metadata": {}
  },
  {
   "cell_type": "code",
   "execution_count": 10,
   "metadata": {},
   "outputs": [
    {
     "output_type": "execute_result",
     "data": {
      "text/plain": [
       "                county  eq_site_limit\n",
       "0          CLAY COUNTY       498960.0\n",
       "1          CLAY COUNTY      1322376.3\n",
       "2          CLAY COUNTY       190724.4\n",
       "3          CLAY COUNTY            0.0\n",
       "4          CLAY COUNTY            0.0\n",
       "...                ...            ...\n",
       "36629  PINELLAS COUNTY            0.0\n",
       "36630  PINELLAS COUNTY      1297057.5\n",
       "36631  PINELLAS COUNTY       173286.9\n",
       "36632  PINELLAS COUNTY      1499781.6\n",
       "36633  PINELLAS COUNTY       373488.3\n",
       "\n",
       "[36634 rows x 2 columns]"
      ],
      "text/html": "<div>\n<style scoped>\n    .dataframe tbody tr th:only-of-type {\n        vertical-align: middle;\n    }\n\n    .dataframe tbody tr th {\n        vertical-align: top;\n    }\n\n    .dataframe thead th {\n        text-align: right;\n    }\n</style>\n<table border=\"1\" class=\"dataframe\">\n  <thead>\n    <tr style=\"text-align: right;\">\n      <th></th>\n      <th>county</th>\n      <th>eq_site_limit</th>\n    </tr>\n  </thead>\n  <tbody>\n    <tr>\n      <th>0</th>\n      <td>CLAY COUNTY</td>\n      <td>498960.0</td>\n    </tr>\n    <tr>\n      <th>1</th>\n      <td>CLAY COUNTY</td>\n      <td>1322376.3</td>\n    </tr>\n    <tr>\n      <th>2</th>\n      <td>CLAY COUNTY</td>\n      <td>190724.4</td>\n    </tr>\n    <tr>\n      <th>3</th>\n      <td>CLAY COUNTY</td>\n      <td>0.0</td>\n    </tr>\n    <tr>\n      <th>4</th>\n      <td>CLAY COUNTY</td>\n      <td>0.0</td>\n    </tr>\n    <tr>\n      <th>...</th>\n      <td>...</td>\n      <td>...</td>\n    </tr>\n    <tr>\n      <th>36629</th>\n      <td>PINELLAS COUNTY</td>\n      <td>0.0</td>\n    </tr>\n    <tr>\n      <th>36630</th>\n      <td>PINELLAS COUNTY</td>\n      <td>1297057.5</td>\n    </tr>\n    <tr>\n      <th>36631</th>\n      <td>PINELLAS COUNTY</td>\n      <td>173286.9</td>\n    </tr>\n    <tr>\n      <th>36632</th>\n      <td>PINELLAS COUNTY</td>\n      <td>1499781.6</td>\n    </tr>\n    <tr>\n      <th>36633</th>\n      <td>PINELLAS COUNTY</td>\n      <td>373488.3</td>\n    </tr>\n  </tbody>\n</table>\n<p>36634 rows × 2 columns</p>\n</div>"
     },
     "metadata": {},
     "execution_count": 10
    }
   ],
   "source": [
    "df[['county','eq_site_limit']]"
   ]
  },
  {
   "cell_type": "code",
   "execution_count": 12,
   "metadata": {},
   "outputs": [
    {
     "output_type": "execute_result",
     "data": {
      "text/plain": [
       "0         498960.0\n",
       "1        1322376.3\n",
       "2         190724.4\n",
       "3              0.0\n",
       "4              0.0\n",
       "           ...    \n",
       "36629          0.0\n",
       "36630    1297057.5\n",
       "36631     173286.9\n",
       "36632    1499781.6\n",
       "36633     373488.3\n",
       "Name: eq_site_limit, Length: 36634, dtype: float64"
      ]
     },
     "metadata": {},
     "execution_count": 12
    }
   ],
   "source": [
    "df.eq_site_limit"
   ]
  },
  {
   "cell_type": "code",
   "execution_count": null,
   "metadata": {},
   "outputs": [],
   "source": []
  }
 ]
}