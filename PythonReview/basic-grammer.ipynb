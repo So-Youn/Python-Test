{
 "metadata": {
  "language_info": {
   "codemirror_mode": {
    "name": "ipython",
    "version": 3
   },
   "file_extension": ".py",
   "mimetype": "text/x-python",
   "name": "python",
   "nbconvert_exporter": "python",
   "pygments_lexer": "ipython3",
   "version": "3.7.6-final"
  },
  "orig_nbformat": 2,
  "kernelspec": {
   "name": "python3",
   "display_name": "Python 3.7.6 64-bit",
   "metadata": {
    "interpreter": {
     "hash": "f85f59fea98d3427f7f616213d7ec4f299ddb9836e2016343160139db0cd9b6c"
    }
   }
  }
 },
 "nbformat": 4,
 "nbformat_minor": 2,
 "cells": [
  {
   "source": [
    "# 연산자\n",
    "\n",
    "* 몫 `//`\n",
    "* 나머지 `%`\n",
    "\n",
    "* 같다 `==`\n",
    "* 같지않다 `!=`\n",
    "* 값의 반대 `not`\n",
    "\n",
    "## \n",
    "* `and` = `&` : 모두 만족 시 True\n",
    "* `or` = `|` : 둘 중 하나만 만족시 True \n",
    "\n"
   ],
   "cell_type": "markdown",
   "metadata": {}
  },
  {
   "source": [
    "print(2**3) # 2^3 = 8\n",
    "print(5%3)  # 나머지 구하기 2\n",
    "print(5//3) # 몫 구하기\n",
    "\n",
    "print(10>3) # True  \n",
    "print(4>=7) # False\n",
    "\n",
    "print (3 == 3) # True 값이 같은지 확인\n",
    "print(3+4 == 7) # True\n",
    "\n",
    "print(not(1 != 3)) # Fa;se\n",
    "\n",
    "print((3>0) and (3<5)) # 모두 만족하는 경우 True\n",
    "print((3>0) & (3<5))\n",
    "\n",
    "print( 5>4>3 ) # True\n",
    "print( 5>4>7 ) # False\n",
    "\n"
   ],
   "cell_type": "code",
   "metadata": {},
   "execution_count": 2,
   "outputs": [
    {
     "output_type": "stream",
     "name": "stdout",
     "text": [
      "8\n2\n1\nTrue\nFalse\nTrue\nTrue\nFalse\nTrue\nTrue\nTrue\nFalse\n"
     ]
    }
   ]
  },
  {
   "source": [
    "# 숫자 처리함수\n",
    "* 절대값 : `abs`\n",
    "* 제곱 : `pow`\n",
    "* 반올림 : `round`\n",
    "* `math` library\n"
   ],
   "cell_type": "markdown",
   "metadata": {}
  },
  {
   "cell_type": "code",
   "execution_count": null,
   "metadata": {},
   "outputs": [],
   "source": [
    "abs(-5) # 5\n",
    "pow(4,2) # 4^2 = 16\n",
    "max(5,12) # 12\n",
    "min(5,11) # 5\n",
    "round(3.14) # 3 \n",
    "round(4.99) #5\n"
   ]
  },
  {
   "cell_type": "code",
   "execution_count": 6,
   "metadata": {},
   "outputs": [
    {
     "output_type": "stream",
     "name": "stdout",
     "text": [
      "4\n4\n4.0\n"
     ]
    }
   ],
   "source": [
    "from math import *\n",
    "print(floor(4.99))  # 내림 ->4\n",
    "print(ceil(3.14)) # 올림 -> 4\n",
    "print(sqrt(16)) # 제곱근 ->4\n"
   ]
  },
  {
   "source": [
    "# 랜덤함수\n",
    "`random()` : 0.0 ~ 1.0 미만의 임의의 값을 생성\n"
   ],
   "cell_type": "markdown",
   "metadata": {}
  },
  {
   "cell_type": "code",
   "execution_count": 17,
   "metadata": {},
   "outputs": [
    {
     "output_type": "stream",
     "name": "stdout",
     "text": [
      "0.8682508232766948\n1.5667507969531291\n4\n9\n"
     ]
    }
   ],
   "source": [
    "from random import *\n",
    "print(random()) # 난수 생성\n",
    "print(random() * 10) # 0.0~ 10.0 미만의 값 생성\n",
    "print(int(random() * 10)) # 0 ~ 10 미만의 임의의 값 출력\n",
    "print(int(random()* 10 + 1)) # 1 ~ 10이하의 임의의 값 출력"
   ]
  },
  {
   "cell_type": "code",
   "execution_count": 23,
   "metadata": {},
   "outputs": [
    {
     "output_type": "stream",
     "name": "stdout",
     "text": [
      "3\n32\n27\n"
     ]
    }
   ],
   "source": [
    "# 로또 번호 생성\n",
    "from random import *\n",
    "print(int(random() * 45) +1) # 1~45이하의 임의의 값 생성\n",
    "\n",
    "print(randrange(1,45)) # 1 ~ 45 미만의 값을 생성\n",
    "print(randrange(1,46)) # 1 ~ 45이하\n",
    "\n",
    "print(randint(1,45)) # 1 ~ 45이하"
   ]
  },
  {
   "source": [
    "## 퀴즈\n",
    "# 월 4회 스터디를 하는데 3번은 온라인, 1번은 오프라인으로 하기로 했다.\n",
    "# 아래 조건에 맞는 오프라인 모임 날짜를 정해주는 프로그램을 작성해라.\n",
    "# 조건 1 : 랜덤으로 날짜 뽑음\n",
    "# 조건 2 : 월별 날짜는 다름을 감안하여 최소 일수인 28일 이내로 정함 \n",
    "# 조건 3 : 매월 1 ~ 3일은 스터디 준비를 해야 하므로 제외한다.\n",
    "\n",
    "from random import *\n",
    "date = randint(4,28)\n",
    "print(\"오프라인 스터디 모임 날짜는 매월 \"+ str(date) +\"일로 선정되었습니다.\")"
   ],
   "cell_type": "code",
   "metadata": {},
   "execution_count": null,
   "outputs": []
  },
  {
   "source": [
    "# range 함수\n",
    "> 숫자들의 시퀀스로 이터레이트할 필요가 있을 때 사용"
   ],
   "cell_type": "markdown",
   "metadata": {}
  },
  {
   "source": [
    "for i in range(5):\n",
    "    print(i)\n",
    "\n",
    "range(10) # 10개의 값을 만든다.\n",
    "range(5,10) # 5,6,7,8,9\n"
   ],
   "cell_type": "code",
   "metadata": {},
   "execution_count": 3,
   "outputs": [
    {
     "output_type": "stream",
     "name": "stdout",
     "text": [
      "0\n1\n2\n3\n4\n"
     ]
    },
    {
     "output_type": "execute_result",
     "data": {
      "text/plain": [
       "range(5, 10)"
      ]
     },
     "metadata": {},
     "execution_count": 3
    }
   ]
  },
  {
   "source": [
    "* 인덱스로 이터레이트 할 경우 `range()` 와 `len()` 결합"
   ],
   "cell_type": "markdown",
   "metadata": {}
  },
  {
   "source": [
    " a = ['Mary', 'had', 'a', 'little', 'lamb']\n",
    " for i in range(len(a)):\n",
    "     print(i, a[i])\n",
    " b = sum(range(4)) # 0 + 1 + 2 + 3\n",
    " print()\n",
    " print(b)"
   ],
   "cell_type": "code",
   "metadata": {},
   "execution_count": 4,
   "outputs": [
    {
     "output_type": "stream",
     "name": "stdout",
     "text": [
      "0 Mary\n1 had\n2 a\n3 little\n4 lamb\n6\n"
     ]
    }
   ]
  },
  {
   "source": [
    "# 함수\n",
    "키워드 `def` 사용\n"
   ],
   "cell_type": "markdown",
   "metadata": {}
  },
  {
   "cell_type": "code",
   "execution_count": 5,
   "metadata": {},
   "outputs": [
    {
     "output_type": "stream",
     "name": "stdout",
     "text": [
      "0 1 1 2 3 5 8 13 21 34 55 89 144 233 377 610 987 1597 \n"
     ]
    }
   ],
   "source": [
    "# 피보나치 수열\n",
    "def fib(n):\n",
    "    a,b = 0,1\n",
    "    while a < n:\n",
    "        print(a, end=' ')\n",
    "        a, b = b, a+b\n",
    "    print()\n",
    "\n",
    "fib(2000)"
   ]
  },
  {
   "cell_type": "code",
   "execution_count": null,
   "metadata": {},
   "outputs": [],
   "source": []
  }
 ]
}