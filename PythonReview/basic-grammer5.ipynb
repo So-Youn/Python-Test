{
 "metadata": {
  "language_info": {
   "codemirror_mode": {
    "name": "ipython",
    "version": 3
   },
   "file_extension": ".py",
   "mimetype": "text/x-python",
   "name": "python",
   "nbconvert_exporter": "python",
   "pygments_lexer": "ipython3",
   "version": "3.7.6-final"
  },
  "orig_nbformat": 2,
  "kernelspec": {
   "name": "python3",
   "display_name": "Python 3.7.6 64-bit",
   "metadata": {
    "interpreter": {
     "hash": "f85f59fea98d3427f7f616213d7ec4f299ddb9836e2016343160139db0cd9b6c"
    }
   }
  }
 },
 "nbformat": 4,
 "nbformat_minor": 2,
 "cells": [
  {
   "source": [
    "# 반복문\n",
    "* for\n",
    "* while"
   ],
   "cell_type": "markdown",
   "metadata": {}
  },
  {
   "cell_type": "code",
   "execution_count": null,
   "metadata": {},
   "outputs": [],
   "source": [
    "for waiting_no in range(5): # 0,1,2,3,4\n",
    "    print(\"대기번호: {0}\".format(waiting_no))\n",
    "\n",
    "    \n",
    "starbucks = [\"아이언맨\",\"토르\",\"그루트\"]\n",
    "for customer in starbucks:\n",
    "    print(\"{0}, 커피가 준비되었습니다.\".format(customer))"
   ]
  },
  {
   "cell_type": "code",
   "execution_count": 1,
   "metadata": {},
   "outputs": [
    {
     "output_type": "stream",
     "name": "stdout",
     "text": [
      "토르, 커피가 준비되었습니다.5번 남았어요.\n토르, 커피가 준비되었습니다.4번 남았어요.\n토르, 커피가 준비되었습니다.3번 남았어요.\n토르, 커피가 준비되었습니다.2번 남았어요.\n토르, 커피가 준비되었습니다.1번 남았어요.\n커피는 폐기처분되었습니다.\n"
     ]
    }
   ],
   "source": [
    "customer = \"토르\"\n",
    "index = 5\n",
    "while index >= 1:\n",
    "    print(\"{0}, 커피가 준비되었습니다.{1}번 남았어요.\".format(customer,index))\n",
    "    index -=1\n",
    "    if index == 0:\n",
    "        print(\"커피는 폐기처분되었습니다.\")"
   ]
  },
  {
   "cell_type": "code",
   "execution_count": null,
   "metadata": {},
   "outputs": [],
   "source": [
    "# 무한루프문\n",
    "# customer = \"윤소윤\"\n",
    "# index = 1\n",
    "# while True:\n",
    "#     print(\"{0}, 커피가 준비되었습니다. 호출 {1} 회.\".format(customer,index))\n",
    "#     index += 1"
   ]
  },
  {
   "cell_type": "code",
   "execution_count": 1,
   "metadata": {},
   "outputs": [
    {
     "output_type": "stream",
     "name": "stdout",
     "text": [
      "윤소윤, 커피가 준비 되었습니다.\n",
      "윤소윤, 커피가 준비 되었습니다.\n"
     ]
    }
   ],
   "source": [
    "customer = \"윤소윤\"\n",
    "person = \"Unknown\"\n",
    "\n",
    "while person != customer :\n",
    "    print(\"{0}, 커피가 준비 되었습니다.\".format(customer))\n",
    "    person = input(\"이름이 어떻게 되세요?\")\n",
    "    \n"
   ]
  },
  {
   "source": [
    "* continue : 밑에 문장을 실행하지 않고 다음 반복으로 넘어간다.\n",
    "* break : 지금 반복문은 끝낸다."
   ],
   "cell_type": "markdown",
   "metadata": {}
  },
  {
   "cell_type": "code",
   "execution_count": 3,
   "metadata": {},
   "outputs": [
    {
     "output_type": "stream",
     "name": "stdout",
     "text": [
      "1야, 책을 읽어봐\n3야, 책을 읽어봐\n4야, 책을 읽어봐\n6야, 책을 읽어봐\n오늘 수업 여기까지, 7는 교무실 따라와\n"
     ]
    }
   ],
   "source": [
    "absent = [2,5] # 결석\n",
    "no_book = [7] # 책을 안가지고 옴\n",
    "for student in range(1,11): # 1 ~ 10 출석번호\n",
    "    if student in absent:\n",
    "        continue\n",
    "    elif student in no_book:\n",
    "        print(\"오늘 수업 여기까지, {0}는 교무실 따라와\".format(student))\n",
    "        break\n",
    "    print(\"{0}번, 책을 읽어봐\".format(student))\n"
   ]
  },
  {
   "cell_type": "code",
   "execution_count": 5,
   "metadata": {},
   "outputs": [
    {
     "output_type": "stream",
     "name": "stdout",
     "text": [
      "[1, 2, 3, 4, 5]\n[101, 102, 103, 104, 105]\n"
     ]
    }
   ],
   "source": [
    "# 한 줄 for문\n",
    "# 출석번호가 1, 2, 3, 4 였는데, 앞에 100을 붙이기로 함\n",
    "students = [1,2,3,4,5]\n",
    "print(students)\n",
    "students = [i+100 for i in students]\n",
    "print(students)"
   ]
  },
  {
   "cell_type": "code",
   "execution_count": 7,
   "metadata": {},
   "outputs": [
    {
     "output_type": "stream",
     "name": "stdout",
     "text": [
      "[8, 4, 5]\n"
     ]
    }
   ],
   "source": [
    "# 학생 이름을 길이로 변환\n",
    "students = [\"Iron man\", \"Thor\", \"Groot\"]\n",
    "students = [len(i) for i in students]\n",
    "print(students)\n"
   ]
  },
  {
   "cell_type": "code",
   "execution_count": 8,
   "metadata": {},
   "outputs": [
    {
     "output_type": "stream",
     "name": "stdout",
     "text": [
      "['IRON MAN', 'THOR', 'GROOT']\n"
     ]
    }
   ],
   "source": [
    "# 학생 이름을 대문자로 변환\n",
    "students = [\"Iron man\", \"Thor\", \"Groot\"]\n",
    "students = [i.upper() for i in students]\n",
    "print(students)"
   ]
  },
  {
   "source": [
    "# 퀴즈\n",
    "당신은 Cocoa 서비스를 이용하는 택시 기사이다. <br/>\n",
    "50명의 승객과 매칭 기회가 있을 때, 총 탑승 승객 수를 구하는 프로그램을 작성해라 <br/>\n",
    "\n",
    "* 조건 1: 승객별 운행 소요 시간은 5분 ~ 50분 사이의 난수로 정해진다.\n",
    "* 조건 2: 당신은 소요 시간 5분 ~ 15분 사이의 승객만 매칭해야 한다.\n"
   ],
   "cell_type": "markdown",
   "metadata": {}
  },
  {
   "cell_type": "code",
   "execution_count": 10,
   "metadata": {},
   "outputs": [
    {
     "output_type": "stream",
     "name": "stdout",
     "text": [
      "[ ] 1번째 손님 (소요시간 : 26분)\n[ ] 2번째 손님 (소요시간 : 45분)\n[O]] 3번째 손님 (소요시간 : 12분)\n[ ] 4번째 손님 (소요시간 : 45분)\n[ ] 5번째 손님 (소요시간 : 26분)\n[O]] 6번째 손님 (소요시간 : 7분)\n[ ] 7번째 손님 (소요시간 : 29분)\n[O]] 8번째 손님 (소요시간 : 6분)\n[ ] 9번째 손님 (소요시간 : 43분)\n[ ] 10번째 손님 (소요시간 : 48분)\n[O]] 11번째 손님 (소요시간 : 5분)\n[ ] 12번째 손님 (소요시간 : 31분)\n[ ] 13번째 손님 (소요시간 : 37분)\n[ ] 14번째 손님 (소요시간 : 37분)\n[ ] 15번째 손님 (소요시간 : 20분)\n[ ] 16번째 손님 (소요시간 : 19분)\n[ ] 17번째 손님 (소요시간 : 37분)\n[O]] 18번째 손님 (소요시간 : 11분)\n[ ] 19번째 손님 (소요시간 : 44분)\n[O]] 20번째 손님 (소요시간 : 11분)\n[O]] 21번째 손님 (소요시간 : 9분)\n[ ] 22번째 손님 (소요시간 : 17분)\n[O]] 23번째 손님 (소요시간 : 8분)\n[ ] 24번째 손님 (소요시간 : 37분)\n[ ] 25번째 손님 (소요시간 : 39분)\n[ ] 26번째 손님 (소요시간 : 29분)\n[ ] 27번째 손님 (소요시간 : 17분)\n[ ] 28번째 손님 (소요시간 : 39분)\n[ ] 29번째 손님 (소요시간 : 49분)\n[O]] 30번째 손님 (소요시간 : 14분)\n[ ] 31번째 손님 (소요시간 : 36분)\n[O]] 32번째 손님 (소요시간 : 15분)\n[ ] 33번째 손님 (소요시간 : 41분)\n[ ] 34번째 손님 (소요시간 : 16분)\n[ ] 35번째 손님 (소요시간 : 31분)\n[O]] 36번째 손님 (소요시간 : 9분)\n[O]] 37번째 손님 (소요시간 : 11분)\n[ ] 38번째 손님 (소요시간 : 37분)\n[ ] 39번째 손님 (소요시간 : 38분)\n[ ] 40번째 손님 (소요시간 : 44분)\n[ ] 41번째 손님 (소요시간 : 37분)\n[ ] 42번째 손님 (소요시간 : 36분)\n[ ] 43번째 손님 (소요시간 : 34분)\n[ ] 44번째 손님 (소요시간 : 28분)\n[ ] 45번째 손님 (소요시간 : 40분)\n[ ] 46번째 손님 (소요시간 : 25분)\n[O]] 47번째 손님 (소요시간 : 6분)\n[ ] 48번째 손님 (소요시간 : 20분)\n[ ] 49번째 손님 (소요시간 : 30분)\n[ ] 50번째 손님 (소요시간 : 21분)\n총 탑승 승객 : 13분\n"
     ]
    }
   ],
   "source": [
    "from random import *\n",
    "cnt = 0 # 총 탑승 승객 수\n",
    "for i in range(1,51): \n",
    "    time = randrange(5,51) # 5 ~ 50분 사이의 랜덤 소요시간\n",
    "    if 5 <= time <= 15 : # 5분 ~ 15분 이내의 손님, 탑승 승객 수 증가\n",
    "        # 매칭 성공\n",
    "        print(\"[O]] {0}번째 손님 (소요시간 : {1}분)\".format(i, time))\n",
    "        cnt += 1\n",
    "    else : # 매칭 실패\n",
    "        print(\"[ ] {0}번째 손님 (소요시간 : {1}분)\".format(i, time))\n",
    "\n",
    "\n",
    "print(\"총 탑승 승객 : {}분\".format(cnt))"
   ]
  },
  {
   "cell_type": "code",
   "execution_count": null,
   "metadata": {},
   "outputs": [],
   "source": []
  }
 ]
}