{
 "metadata": {
  "language_info": {
   "codemirror_mode": {
    "name": "ipython",
    "version": 3
   },
   "file_extension": ".py",
   "mimetype": "text/x-python",
   "name": "python",
   "nbconvert_exporter": "python",
   "pygments_lexer": "ipython3",
   "version": "3.7.6-final"
  },
  "orig_nbformat": 2,
  "kernelspec": {
   "name": "python3",
   "display_name": "Python 3.7.6 64-bit",
   "metadata": {
    "interpreter": {
     "hash": "f85f59fea98d3427f7f616213d7ec4f299ddb9836e2016343160139db0cd9b6c"
    }
   }
  }
 },
 "nbformat": 4,
 "nbformat_minor": 2,
 "cells": [
  {
   "source": [
    "# 문자열 "
   ],
   "cell_type": "markdown",
   "metadata": {}
  },
  {
   "cell_type": "code",
   "execution_count": 2,
   "metadata": {},
   "outputs": [
    {
     "output_type": "stream",
     "name": "stdout",
     "text": [
      "나는 성인입니다\n파이썬은 쉬움\n\n나는 소년이고, 파이썬은 쉬워요\n\n"
     ]
    }
   ],
   "source": [
    "sentence = '나는 성인입니다'\n",
    "print(sentence)\n",
    "sentence2 = '파이썬은 쉬움'\n",
    "print(sentence2)\n",
    "sentence3 = \"\"\"\n",
    "나는 소년이고, 파이썬은 쉬워요\n",
    "\"\"\"\n",
    "print(sentence3)"
   ]
  },
  {
   "source": [
    "\n",
    "# 슬라이싱\n",
    "- 숫자 처리 방식\n",
    "- 0부터 시작\n",
    "- 뒤에서부터는 -1부터 시작"
   ],
   "cell_type": "markdown",
   "metadata": {}
  },
  {
   "cell_type": "code",
   "execution_count": 9,
   "metadata": {},
   "outputs": [
    {
     "output_type": "stream",
     "name": "stdout",
     "text": [
      "성별:1\n연도:95\n월:01 일:02\n생년월일:950102\n뒤 7자리:1234567\n"
     ]
    }
   ],
   "source": [
    "jumin = '950102-1234567'\n",
    "print('성별:' + jumin[7])\n",
    "print(\"연도:\" + jumin[0:2]) # 0부터 2 직전까지 (0,1)\n",
    "print(\"월:\" + jumin[2:4] + \" 일:\" +jumin[4:6]  )\n",
    "print(\"생년월일:\" + jumin[:6]) # 처음부터 6 직전까지의 값\n",
    "print(\"뒤 7자리:\"+ jumin[7:]) # 7부터 끝까지\n",
    "print(\"뒤 7자리(뒤에서부터 계산) : \"+ jumin[-7:])\n",
    "# 맨 뒤에서 7번째부터 끝까지"
   ]
  },
  {
   "source": [
    "# 문자열 처리 방식\n",
    "\n",
    "* find : 원하는 값이 포함되어 있지 않을 시에는 `-1` 반환\n",
    "* index : 원하는 값이 포함되어 있지 않을 시에는 오류 발생\n",
    "-> 뒤에 프로세스는 진행되지 않음"
   ],
   "cell_type": "markdown",
   "metadata": {}
  },
  {
   "cell_type": "code",
   "execution_count": 21,
   "metadata": {},
   "outputs": [
    {
     "output_type": "stream",
     "name": "stdout",
     "text": [
      "python is amazing\nPYTHON IS AMAZING\nTrue\n17\nJava is Amazing\n5\n15\n-1\n2\n"
     ]
    }
   ],
   "source": [
    "python = \"Python is Amazing\"\n",
    "print(python.lower())\n",
    "print(python.upper())\n",
    "print(python[0].isupper()) # 문자가 대문자인지 알려줌\n",
    "print(len(python))\n",
    "print(python.replace(\"Python\",\"Java\")) # Java is Amazing\n",
    "\n",
    "# 위치 찾기\n",
    "index = python.index(\"n\")\n",
    "print(index)\n",
    "index = python.index(\"n\", index+1) # 두 번째 n 찾기\n",
    "print(index)\n",
    "\n",
    "print(python.find(\"Java\")) # 포함된 위치 찾기\n",
    "# print(python.index(\"Java\")) # 오류\n",
    "\n",
    "print(python.count(\"n\")) # 총 등장 횟수 계산"
   ]
  },
  {
   "source": [
    "# 문자열 포맷\n",
    "* 방법 1 : `%` 사용 *%d %s %c*\n",
    "* 방법 2 : `{}` 사용 + `.format`\n",
    "* 방법 3 : `{변수}` 사용"
   ],
   "cell_type": "markdown",
   "metadata": {}
  },
  {
   "cell_type": "code",
   "execution_count": 27,
   "metadata": {},
   "outputs": [
    {
     "output_type": "stream",
     "name": "stdout",
     "text": [
      "ab\na b\n나는 27 살 입니다.\n나는 파이썬를 좋아해요.\nApple은 A로 시작합니다.\n나는 파란색과 빨간색을 좋아해요\n"
     ]
    }
   ],
   "source": [
    "# 일반적인 방법\n",
    "print(\"a\" + \"b\")\n",
    "print(\"a\", \"b\") # 공백 생성\n",
    "\n",
    "\n",
    "# 방법 1\n",
    "print(\"나는 %d 살 입니다.\" %27)\n",
    "print(\"나는 %s를 좋아해요.\" %\"파이썬\")\n",
    "print(\"Apple은 %c로 시작합니다.\" %\"A\")\n",
    "\n",
    "print(\"나는 %s색과 %s색을 좋아해요\" %(\"파란\", \"빨간\"))\n"
   ]
  },
  {
   "cell_type": "code",
   "execution_count": 30,
   "metadata": {},
   "outputs": [
    {
     "output_type": "stream",
     "name": "stdout",
     "text": [
      "나는 27살입니다.\n나는 파란색과 빨간색을 좋아해요.\n나는 빨간색과 파란색을 좋아해요.\n"
     ]
    }
   ],
   "source": [
    "# 방법 2\n",
    "print(\"나는 {}살입니다.\".format(27))\n",
    "print(\"나는 {}색과 {}색을 좋아해요.\".format(\"파란\",\"빨간\"))\n",
    "print(\"나는 {0}색과 {1}색을 좋아해요.\".format(\"파란\",\"빨간\"))\n",
    "print(\"나는 {1}색과 {0}색을 좋아해요.\".format(\"파란\",\"빨간\"))"
   ]
  },
  {
   "cell_type": "code",
   "execution_count": 32,
   "metadata": {},
   "outputs": [
    {
     "output_type": "stream",
     "name": "stdout",
     "text": [
      "나는 20살이며. 빨간색을 좋아해요.\n나는 20살이며. 빨간색을 좋아해요.\n"
     ]
    }
   ],
   "source": [
    "# 방법 3\n",
    "print(\"나는 {age}살이며. {color}색을 좋아해요.\".format(age=20, color=\"빨간\"))\n",
    "print(\"나는 {age}살이며. {color}색을 좋아해요.\".format(color=\"빨간\", age=20))"
   ]
  },
  {
   "cell_type": "code",
   "execution_count": 33,
   "metadata": {},
   "outputs": [
    {
     "output_type": "stream",
     "name": "stdout",
     "text": [
      "나는 20살이며. 빨간색을 좋아해요.\n"
     ]
    }
   ],
   "source": [
    "# 방법 4 (v3.6 이상~)\n",
    "age = 20\n",
    "color = \"빨간\"\n",
    "print(f\"나는 {age}살이며. {color}색을 좋아해요.\")"
   ]
  },
  {
   "source": [
    "# 탈출문자\n",
    "\n",
    "* `\\n` : 문장 내에서 줄 바꿈\n",
    "* `\\\"` : 문장 내에서 큰 따옴표 출력 \n",
    "* `\\\\` : 문장 내에서 하나의 \\ 출력\n",
    "* `\\r` : 커서를 맨 앞으로 이동\n",
    "* `\\b` : 백스페이스(한 글자 삭제)\n",
    "* `\\t` : 탭"
   ],
   "cell_type": "code",
   "metadata": {},
   "execution_count": null,
   "outputs": []
  },
  {
   "cell_type": "code",
   "execution_count": 45,
   "metadata": {},
   "outputs": [
    {
     "output_type": "stream",
     "name": "stdout",
     "text": [
      "백문이 불여일견 \n 백견이 불여일타\n저는 '윤소윤'입니다.\n저는 \"윤소윤\"입니다.\nc:\\Desktop\\Python\n"
     ]
    }
   ],
   "source": [
    "print(\"백문이 불여일견 \\n 백견이 불여일타\")\n",
    "\n",
    "# 저는 '윤소윤'입니다\n",
    "print(\"저는 '윤소윤'입니다.\")\n",
    "print(\"저는 \\\"윤소윤\\\"입니다.\")\n",
    "# 경로 출력\n",
    "print(\"c:\\\\Desktop\\\\Python\")"
   ]
  },
  {
   "source": [
    "print(\"Red Apple\\rPine\") # PineApple \n",
    "\n",
    "print(\"Redd\\bApple\") # RedApple\n",
    "\n",
    "print(\"Red \\tApple\")"
   ],
   "cell_type": "code",
   "metadata": {},
   "execution_count": 48,
   "outputs": [
    {
     "output_type": "stream",
     "name": "stdout",
     "text": [
      "Pine\nRedApple\nRed \tApple\n"
     ]
    }
   ]
  },
  {
   "cell_type": "code",
   "execution_count": 52,
   "metadata": {},
   "outputs": [
    {
     "output_type": "stream",
     "name": "stdout",
     "text": [
      "naver.com\nnaver\nhttp://naver.com의 비밀번호는 nav51! 입니다.\n"
     ]
    }
   ],
   "source": [
    "## 퀴즈\n",
    "# 사이트별로 비밀번호 만들어주는 프로그램 만들기\n",
    "# ex) http://naver.com\n",
    "# 규칙 1 : http:// 부분 제외 => naver.com\n",
    "# 규칙 2 : 처음 만나는 점(.) 이후 부분은 제외 => naver\n",
    "# 규칙 3 : 남은 글자 중 처음 세 자리 + 글자 갯수 + 글자 내 'e' 갯수 + \"!\"로 구성\n",
    "# = result : nav51!\n",
    "\n",
    "url = \"http://naver.com\"\n",
    "my_str = url.replace(\"http://\", \"\") # 규칙 1\n",
    "print(my_str)\n",
    "my_str = my_str[:my_str.index(\".\")] # my_str[0:5] \n",
    "print(my_str) # 규칙 2\n",
    "password = my_str[:3]+ str(len(my_str)) + str(my_str.count(\"e\")) + \"!\"\n",
    "print(\"{0}의 비밀번호는 {1}입니다.\".format(url, password))"
   ]
  },
  {
   "cell_type": "code",
   "execution_count": null,
   "metadata": {},
   "outputs": [],
   "source": []
  }
 ]
}