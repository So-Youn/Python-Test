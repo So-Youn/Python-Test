{
 "metadata": {
  "language_info": {
   "codemirror_mode": {
    "name": "ipython",
    "version": 3
   },
   "file_extension": ".py",
   "mimetype": "text/x-python",
   "name": "python",
   "nbconvert_exporter": "python",
   "pygments_lexer": "ipython3",
   "version": "3.7.6-final"
  },
  "orig_nbformat": 2,
  "kernelspec": {
   "name": "python3",
   "display_name": "Python 3.7.6 64-bit",
   "metadata": {
    "interpreter": {
     "hash": "f85f59fea98d3427f7f616213d7ec4f299ddb9836e2016343160139db0cd9b6c"
    }
   }
  }
 },
 "nbformat": 4,
 "nbformat_minor": 2,
 "cells": [
  {
   "source": [
    "# 튜플\n",
    "> 값 추가와 변경 불가능"
   ],
   "cell_type": "markdown",
   "metadata": {}
  },
  {
   "cell_type": "code",
   "execution_count": 3,
   "metadata": {},
   "outputs": [
    {
     "output_type": "stream",
     "name": "stdout",
     "text": [
      "돈까스\n윤소윤 27 코딩\n"
     ]
    }
   ],
   "source": [
    "menu = (\"돈까스\", \"치즈가스\")\n",
    "print(menu[0])\n",
    "\n",
    "# menu.add(\"생선까스\") - 'tuple' object has no attribute 'add'\n",
    "# name = \"윤소윤\"\n",
    "# age = 27\n",
    "# hobby = \"코딩\"\n",
    "# print(name,age,hobby)\n",
    "\n",
    "(name, age, hobby) = (\"윤소윤\", 27, \"코딩\")\n",
    "print(name, age, hobby)\n",
    "\n"
   ]
  },
  {
   "source": [
    "# 집합 (Set)\n",
    "> 중복이 안되고 순서가 없다\n"
   ],
   "cell_type": "markdown",
   "metadata": {}
  },
  {
   "cell_type": "code",
   "execution_count": 4,
   "metadata": {},
   "outputs": [
    {
     "output_type": "stream",
     "name": "stdout",
     "text": [
      "{1, 2, 3}\n"
     ]
    }
   ],
   "source": [
    "my_set = {1,2,3,3,3}\n",
    "print(my_set) # {1, 2, 3}"
   ]
  },
  {
   "cell_type": "code",
   "execution_count": 9,
   "metadata": {},
   "outputs": [
    {
     "output_type": "stream",
     "name": "stdout",
     "text": [
      "{'유재석'}\n{'유재석'}\n{'김태호', '박명수', '양세형', '유재석'}\n{'김태호', '박명수', '양세형', '유재석'}\n{'양세형', '김태호'}\n{'양세형', '김태호'}\n{'박명수', '김태호', '유재석'}\n{'양세형', '유재석'}\n"
     ]
    }
   ],
   "source": [
    "java = {\"유재석\", \"김태호\", \"양세형\"}\n",
    "python = set([\"유재석\",\"박명수\"])\n",
    "\n",
    "# 교집합 (java와 python을 모두 할 수 있는 개발자)\n",
    "print(java & python)\n",
    "print(java.intersection(python))\n",
    "\n",
    "# 합집합 (java 할 수 있거나 python 할 수 있는 개발자)\n",
    "print(java | python)\n",
    "print(java.union(python))\n",
    "\n",
    "# 차집합 (java 할 수 있지만 python 할 줄 모르는 개발자)\n",
    "print(java - python)\n",
    "print(java.difference(python))\n",
    "\n",
    "# python을 할 줄 아는 사람이 늘어남\n",
    "python.add(\"김태호\")\n",
    "print(python)\n",
    "\n",
    "# java를 까먹음\n",
    "java.remove(\"김태호\")\n",
    "print(java)"
   ]
  },
  {
   "source": [
    "# 자료 구조의 변경"
   ],
   "cell_type": "markdown",
   "metadata": {}
  },
  {
   "cell_type": "code",
   "execution_count": 15,
   "metadata": {},
   "outputs": [
    {
     "output_type": "stream",
     "name": "stdout",
     "text": [
      "{'주스', '커피', '우유'}\n{'주스', '커피', '우유'} <class 'set'>\n['주스', '커피', '우유'] <class 'list'>\n('주스', '커피', '우유') <class 'tuple'>\n{'주스', '커피', '우유'} <class 'set'>\n"
     ]
    }
   ],
   "source": [
    "menu = {\"커피\",\"우유\",\"주스\"}\n",
    "print(menu)\n",
    "\n",
    "print(menu, type(menu))\n",
    "menu = list(menu)\n",
    "print(menu, type(menu))\n",
    "menu = tuple(menu)\n",
    "print(menu, type(menu))\n",
    "menu = set(menu)\n",
    "print(menu, type(menu))"
   ]
  },
  {
   "source": [
    "## 퀴즈\n",
    "> 댓글 추첨을 통해 1명은 치킨, 3명은 커피 쿠폰을 받는다.\n",
    "> 추첨 프로그램을 작성해봐라\n",
    "\n",
    "* 조건 1 : 댓글은 20명이 작성하고 아이디는 1~20이라고 가정\n",
    "* 조건 2 : 댓글 내용과 상관 없이 무작위로 추첨하되 중복 불가\n",
    "* 조건 3 : random 모듈의 shuffle과 sample을 활용 \n",
    "\n"
   ],
   "cell_type": "markdown",
   "metadata": {}
  },
  {
   "cell_type": "code",
   "execution_count": null,
   "metadata": {},
   "outputs": [],
   "source": [
    "# 활용 예제\n",
    "from random import *\n",
    "lst = [1,2,3,4,5]\n",
    "shuffle(lst) # 값 무작위로 섞어줌\n",
    "print(lst) \n",
    "print(sample(lst,1))\n",
    "\n",
    "# range\n",
    "users = range(1,21) # 1부터 20까지 숫자 생성\n",
    "print(type(users))\n",
    "users = list(users)\n",
    "print(type(users))\n",
    "print(users)"
   ]
  },
  {
   "cell_type": "code",
   "execution_count": 30,
   "metadata": {},
   "outputs": [
    {
     "output_type": "stream",
     "name": "stdout",
     "text": [
      "-- 당첨자 발표 --\n치킨 당첨자 : 2\n커피 당첨자 : [10, 8, 15]\n--축하합니다\n"
     ]
    }
   ],
   "source": [
    "from random import *\n",
    "users = list(range(1,21))\n",
    "shuffle(users)\n",
    "# print(users)\n",
    "\n",
    "winners = sample(users, 4)\n",
    "print(\"-- 당첨자 발표 --\")\n",
    "print(\"치킨 당첨자 : {0}\".format(winners[0]))\n",
    "print(\"커피 당첨자 : {0}\".format(winners[1:]))\n",
    "print(\"--축하합니다\")\n"
   ]
  },
  {
   "cell_type": "code",
   "execution_count": null,
   "metadata": {},
   "outputs": [],
   "source": []
  }
 ]
}