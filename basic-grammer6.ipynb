{
 "metadata": {
  "language_info": {
   "codemirror_mode": {
    "name": "ipython",
    "version": 3
   },
   "file_extension": ".py",
   "mimetype": "text/x-python",
   "name": "python",
   "nbconvert_exporter": "python",
   "pygments_lexer": "ipython3",
   "version": "3.7.6-final"
  },
  "orig_nbformat": 2,
  "kernelspec": {
   "name": "python3",
   "display_name": "Python 3.7.6 64-bit",
   "metadata": {
    "interpreter": {
     "hash": "f85f59fea98d3427f7f616213d7ec4f299ddb9836e2016343160139db0cd9b6c"
    }
   }
  }
 },
 "nbformat": 4,
 "nbformat_minor": 2,
 "cells": [
  {
   "source": [
    "# 예외처리\n",
    "> `try` `except`"
   ],
   "cell_type": "markdown",
   "metadata": {}
  },
  {
   "cell_type": "code",
   "execution_count": 3,
   "metadata": {},
   "outputs": [
    {
     "output_type": "stream",
     "name": "stdout",
     "text": [
      "나누기 전용 계산기입니다.\n",
      "division by zero\n"
     ]
    }
   ],
   "source": [
    "try:\n",
    "    print(\"나누기 전용 계산기입니다.\")\n",
    "    num1 = int(input(\"첫 번째 숫자를 입력하세요.\"))\n",
    "    num2 = int(input(\"두 번째 숫자를 입력하세요.\"))\n",
    "    print(\"{0} / {1} = {2}\".format(num1, num2, int(num1/num2)))\n",
    "except ValueError:\n",
    "    print(\"에러! 잘못된 값을 입력했습니다.\")\n",
    "except ZeroDivisionError as err: # 에러 문장 그대로 출력\n",
    "    print(err)"
   ]
  },
  {
   "cell_type": "code",
   "execution_count": 4,
   "metadata": {},
   "outputs": [
    {
     "output_type": "stream",
     "name": "stdout",
     "text": [
      "나누기 전용 계산기입니다.\n",
      "알 수 없는 에러가 발생하였습니다.\n",
      "unsupported operand type(s) for /: 'str' and 'str'\n"
     ]
    }
   ],
   "source": [
    "try:\n",
    "    print(\"나누기 전용 계산기입니다.\")\n",
    "    nums = []\n",
    "    nums.append(input(\"첫 번째 숫자를 입력하세요.\"))\n",
    "    nums.append(input(\"두 번째 숫자를 입력하세요.\"))\n",
    "    nums.append(int(nums[0]/nums[1]))\n",
    "    print(\"{0} / {1} = {2}\".format(nums[0], nums[1], nums[2]))\n",
    "except ValueError:\n",
    "    print(\"에러! 잘못된 값을 입력했습니다.\")\n",
    "except ZeroDivisionError as err: # 에러 문장 그대로 출력\n",
    "    print(err)\n",
    "except Exception as err:\n",
    "    print(\"알 수 없는 에러가 발생하였습니다.\")\n",
    "    print(err)"
   ]
  },
  {
   "source": [
    "# 에러 발생시키기\n"
   ],
   "cell_type": "markdown",
   "metadata": {}
  },
  {
   "cell_type": "code",
   "execution_count": 12,
   "metadata": {},
   "outputs": [
    {
     "output_type": "stream",
     "name": "stdout",
     "text": [
      "한 자리 숫자 나누기 전용 계산기입니다.\n",
      "잘못된 값을 입력하였습니다. 한 자리 숫자만 입력하세요.\n"
     ]
    }
   ],
   "source": [
    "try:\n",
    "    print(\"한 자리 숫자 나누기 전용 계산기입니다.\")\n",
    "    num1 = int(input(\"첫 번째 숫자를 입력하세요 :\"))\n",
    "    num2 = int(input(\"두 번째 숫자를 입력하세요 :\"))\n",
    "    if num1 >= 10 or num2 >=10:\n",
    "        raise ValueError # 에러 발생시키기\n",
    "    print(\"{0} / {1} = {2}\".format(num1, num2, int(num1/num2))) # 에러 발생하지 않으면 !\n",
    "except ValueError:\n",
    "    print(\"잘못된 값을 입력하였습니다. 한 자리 숫자만 입력하세요.\")"
   ]
  },
  {
   "source": [
    "# 사용자 정의 예외처리"
   ],
   "cell_type": "markdown",
   "metadata": {}
  },
  {
   "cell_type": "code",
   "execution_count": 16,
   "metadata": {},
   "outputs": [
    {
     "output_type": "stream",
     "name": "stdout",
     "text": [
      "한 자리 숫자 나누기 전용 계산기입니다.\n",
      "에러가 발생했습니다. 한 자리 숫자만 입력하세요.\n",
      "입력값 : 10,5\n"
     ]
    }
   ],
   "source": [
    "class BigNumberError(Exception):\n",
    "    def __init__(self,msg):\n",
    "        self.msg = msg\n",
    "    def __str__(self):\n",
    "        return self.msg\n",
    "\n",
    "try:\n",
    "    print(\"한 자리 숫자 나누기 전용 계산기입니다.\")\n",
    "    num1 = int(input(\"첫 번째 숫자를 입력하세요 :\"))\n",
    "    num2 = int(input(\"두 번째 숫자를 입력하세요 :\"))\n",
    "    if num1 >= 10 or num2 >=10:\n",
    "        raise BigNumberError(\"입력값 : {0},{1}\".format(num1,num2)) # 에러 발생시키기\n",
    "    print(\"{0} / {1} = {2}\".format(num1, num2, int(num1/num2))) # 에러 발생하지 않으면 !\n",
    "except ValueError:\n",
    "    print(\"잘못된 값을 입력하였습니다. 한 자리 숫자만 입력하세요.\")\n",
    "except BigNumberError as err:\n",
    "    print(\"에러가 발생했습니다. 한 자리 숫자만 입력하세요.\")\n",
    "    print(err)"
   ]
  },
  {
   "cell_type": "code",
   "execution_count": null,
   "metadata": {},
   "outputs": [],
   "source": []
  }
 ]
}