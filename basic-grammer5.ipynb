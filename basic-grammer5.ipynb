{
 "metadata": {
  "language_info": {
   "codemirror_mode": {
    "name": "ipython",
    "version": 3
   },
   "file_extension": ".py",
   "mimetype": "text/x-python",
   "name": "python",
   "nbconvert_exporter": "python",
   "pygments_lexer": "ipython3",
   "version": "3.7.6-final"
  },
  "orig_nbformat": 2,
  "kernelspec": {
   "name": "python3",
   "display_name": "Python 3.7.6 64-bit",
   "metadata": {
    "interpreter": {
     "hash": "f85f59fea98d3427f7f616213d7ec4f299ddb9836e2016343160139db0cd9b6c"
    }
   }
  }
 },
 "nbformat": 4,
 "nbformat_minor": 2,
 "cells": [
  {
   "source": [
    "# 반복문\n",
    "* for\n",
    "* while"
   ],
   "cell_type": "markdown",
   "metadata": {}
  },
  {
   "cell_type": "code",
   "execution_count": null,
   "metadata": {},
   "outputs": [],
   "source": [
    "for waiting_no in range(5): # 0,1,2,3,4\n",
    "    print(\"대기번호: {0}\".format(waiting_no))\n",
    "\n",
    "    \n",
    "starbucks = [\"아이언맨\",\"토르\",\"그루트\"]\n",
    "for customer in starbucks:\n",
    "    print(\"{0}, 커피가 준비되었습니다.\".format(customer))"
   ]
  },
  {
   "cell_type": "code",
   "execution_count": 1,
   "metadata": {},
   "outputs": [
    {
     "output_type": "stream",
     "name": "stdout",
     "text": [
      "토르, 커피가 준비되었습니다.5번 남았어요.\n토르, 커피가 준비되었습니다.4번 남았어요.\n토르, 커피가 준비되었습니다.3번 남았어요.\n토르, 커피가 준비되었습니다.2번 남았어요.\n토르, 커피가 준비되었습니다.1번 남았어요.\n커피는 폐기처분되었습니다.\n"
     ]
    }
   ],
   "source": [
    "customer = \"토르\"\n",
    "index = 5\n",
    "while index >= 1:\n",
    "    print(\"{0}, 커피가 준비되었습니다.{1}번 남았어요.\".format(customer,index))\n",
    "    index -=1\n",
    "    if index == 0:\n",
    "        print(\"커피는 폐기처분되었습니다.\")"
   ]
  },
  {
   "cell_type": "code",
   "execution_count": null,
   "metadata": {},
   "outputs": [],
   "source": [
    "# 무한루프문\n",
    "# customer = \"윤소윤\"\n",
    "# index = 1\n",
    "# while True:\n",
    "#     print(\"{0}, 커피가 준비되었습니다. 호출 {1} 회.\".format(customer,index))\n",
    "#     index += 1"
   ]
  },
  {
   "cell_type": "code",
   "execution_count": 1,
   "metadata": {},
   "outputs": [
    {
     "output_type": "stream",
     "name": "stdout",
     "text": [
      "윤소윤, 커피가 준비 되었습니다.\n",
      "윤소윤, 커피가 준비 되었습니다.\n"
     ]
    }
   ],
   "source": [
    "customer = \"윤소윤\"\n",
    "person = \"Unknown\"\n",
    "\n",
    "while person != customer :\n",
    "    print(\"{0}, 커피가 준비 되었습니다.\".format(customer))\n",
    "    person = input(\"이름이 어떻게 되세요?\")\n",
    "    \n"
   ]
  },
  {
   "source": [
    "* continue : 밑에 문장을 실행하지 않고 다음 반복으로 넘어간다.\n",
    "* break : 지금 반복문은 끝낸다."
   ],
   "cell_type": "markdown",
   "metadata": {}
  },
  {
   "cell_type": "code",
   "execution_count": 3,
   "metadata": {},
   "outputs": [
    {
     "output_type": "stream",
     "name": "stdout",
     "text": [
      "1야, 책을 읽어봐\n3야, 책을 읽어봐\n4야, 책을 읽어봐\n6야, 책을 읽어봐\n오늘 수업 여기까지, 7는 교무실 따라와\n"
     ]
    }
   ],
   "source": [
    "absent = [2,5] # 결석\n",
    "no_book = [7] # 책을 안가지고 옴\n",
    "for student in range(1,11): # 1 ~ 10 출석번호\n",
    "    if student in absent:\n",
    "        continue\n",
    "    elif student in no_book:\n",
    "        print(\"오늘 수업 여기까지, {0}는 교무실 따라와\".format(student))\n",
    "        break\n",
    "    print(\"{0}번, 책을 읽어봐\".format(student))\n"
   ]
  },
  {
   "cell_type": "code",
   "execution_count": 5,
   "metadata": {},
   "outputs": [
    {
     "output_type": "stream",
     "name": "stdout",
     "text": [
      "[1, 2, 3, 4, 5]\n[101, 102, 103, 104, 105]\n"
     ]
    }
   ],
   "source": [
    "# 한 줄 for문\n",
    "# 출석번호가 1, 2, 3, 4 였는데, 앞에 100을 붙이기로 함\n",
    "students = [1,2,3,4,5]\n",
    "print(students)\n",
    "students = [i+100 for i in students]\n",
    "print(students)"
   ]
  },
  {
   "cell_type": "code",
   "execution_count": 7,
   "metadata": {},
   "outputs": [
    {
     "output_type": "stream",
     "name": "stdout",
     "text": [
      "[8, 4, 5]\n"
     ]
    }
   ],
   "source": [
    "# 학생 이름을 길이로 변환\n",
    "students = [\"Iron man\", \"Thor\", \"Groot\"]\n",
    "students = [len(i) for i in students]\n",
    "print(students)\n"
   ]
  },
  {
   "cell_type": "code",
   "execution_count": 8,
   "metadata": {},
   "outputs": [
    {
     "output_type": "stream",
     "name": "stdout",
     "text": [
      "['IRON MAN', 'THOR', 'GROOT']\n"
     ]
    }
   ],
   "source": [
    "# 학생 이름을 대문자로 변환\n",
    "students = [\"Iron man\", \"Thor\", \"Groot\"]\n",
    "students = [i.upper() for i in students]\n",
    "print(students)"
   ]
  },
  {
   "source": [
    "# 퀴즈\n",
    "당신은 Cocoa 서비스를 이용하는 택시 기사이다. <br/>\n",
    "50명의 승객과 매칭 기회가 있을 때, 총 탑승 승객 수를 구하는 프로그램을 작성해라 <br/>\n",
    "\n",
    "* 조건 1: 승객별 운행 소요 시간은 5분 ~ 50분 사이의 난수로 정해진다.\n",
    "* 조건 2: 당신은 소요 시간 5분 ~ 15분 사이의 승객만 매칭해야 한다.\n"
   ],
   "cell_type": "markdown",
   "metadata": {}
  },
  {
   "cell_type": "code",
   "execution_count": 10,
   "metadata": {},
   "outputs": [
    {
     "output_type": "stream",
     "name": "stdout",
     "text": [
      "[ ] 1번째 손님 (소요시간 : 26분)\n[ ] 2번째 손님 (소요시간 : 45분)\n[O]] 3번째 손님 (소요시간 : 12분)\n[ ] 4번째 손님 (소요시간 : 45분)\n[ ] 5번째 손님 (소요시간 : 26분)\n[O]] 6번째 손님 (소요시간 : 7분)\n[ ] 7번째 손님 (소요시간 : 29분)\n[O]] 8번째 손님 (소요시간 : 6분)\n[ ] 9번째 손님 (소요시간 : 43분)\n[ ] 10번째 손님 (소요시간 : 48분)\n[O]] 11번째 손님 (소요시간 : 5분)\n[ ] 12번째 손님 (소요시간 : 31분)\n[ ] 13번째 손님 (소요시간 : 37분)\n[ ] 14번째 손님 (소요시간 : 37분)\n[ ] 15번째 손님 (소요시간 : 20분)\n[ ] 16번째 손님 (소요시간 : 19분)\n[ ] 17번째 손님 (소요시간 : 37분)\n[O]] 18번째 손님 (소요시간 : 11분)\n[ ] 19번째 손님 (소요시간 : 44분)\n[O]] 20번째 손님 (소요시간 : 11분)\n[O]] 21번째 손님 (소요시간 : 9분)\n[ ] 22번째 손님 (소요시간 : 17분)\n[O]] 23번째 손님 (소요시간 : 8분)\n[ ] 24번째 손님 (소요시간 : 37분)\n[ ] 25번째 손님 (소요시간 : 39분)\n[ ] 26번째 손님 (소요시간 : 29분)\n[ ] 27번째 손님 (소요시간 : 17분)\n[ ] 28번째 손님 (소요시간 : 39분)\n[ ] 29번째 손님 (소요시간 : 49분)\n[O]] 30번째 손님 (소요시간 : 14분)\n[ ] 31번째 손님 (소요시간 : 36분)\n[O]] 32번째 손님 (소요시간 : 15분)\n[ ] 33번째 손님 (소요시간 : 41분)\n[ ] 34번째 손님 (소요시간 : 16분)\n[ ] 35번째 손님 (소요시간 : 31분)\n[O]] 36번째 손님 (소요시간 : 9분)\n[O]] 37번째 손님 (소요시간 : 11분)\n[ ] 38번째 손님 (소요시간 : 37분)\n[ ] 39번째 손님 (소요시간 : 38분)\n[ ] 40번째 손님 (소요시간 : 44분)\n[ ] 41번째 손님 (소요시간 : 37분)\n[ ] 42번째 손님 (소요시간 : 36분)\n[ ] 43번째 손님 (소요시간 : 34분)\n[ ] 44번째 손님 (소요시간 : 28분)\n[ ] 45번째 손님 (소요시간 : 40분)\n[ ] 46번째 손님 (소요시간 : 25분)\n[O]] 47번째 손님 (소요시간 : 6분)\n[ ] 48번째 손님 (소요시간 : 20분)\n[ ] 49번째 손님 (소요시간 : 30분)\n[ ] 50번째 손님 (소요시간 : 21분)\n총 탑승 승객 : 13분\n"
     ]
    }
   ],
   "source": [
    "from random import *\n",
    "cnt = 0 # 총 탑승 승객 수\n",
    "for i in range(1,51): \n",
    "    time = randrange(5,51) # 5 ~ 50분 사이의 랜덤 소요시간\n",
    "    if 5 <= time <= 15 : # 5분 ~ 15분 이내의 손님, 탑승 승객 수 증가\n",
    "        # 매칭 성공\n",
    "        print(\"[O]] {0}번째 손님 (소요시간 : {1}분)\".format(i, time))\n",
    "        cnt += 1\n",
    "    else : # 매칭 실패\n",
    "        print(\"[ ] {0}번째 손님 (소요시간 : {1}분)\".format(i, time))\n",
    "\n",
    "\n",
    "print(\"총 탑승 승객 : {}분\".format(cnt))"
   ]
  },
  {
   "source": [
    "# 표준 입출력\n",
    "* sep=\",\" : `,` 로 구분\n",
    "* end=\"?\" : 문장의 끝 부분을 `?` 로 바꾼다.\n",
    "* ljust(n) : 왼쪽 정렬\n",
    "* rjust(n) : 오른쪽 정렬\n",
    "* zfill(n) : 값이 없는 빈 공간은 0으로 채우기"
   ],
   "cell_type": "markdown",
   "metadata": {}
  },
  {
   "cell_type": "code",
   "execution_count": 6,
   "metadata": {},
   "outputs": [
    {
     "output_type": "stream",
     "name": "stdout",
     "text": [
      "Python,Java\nPython vs Java vs Javascript\nPython,Java?무엇이 더 재밌을까요?\n"
     ]
    }
   ],
   "source": [
    "print(\"Python\",\"Java\", sep=\",\")\n",
    "print(\"Python\",\"Java\", \"Javascript\", sep=\" vs \")\n",
    "print(\"Python\",\"Java\", sep=\",\", end=\"?\") \n",
    "print(\"무엇이 더 재밌을까요?\")"
   ]
  },
  {
   "cell_type": "code",
   "execution_count": 7,
   "metadata": {},
   "outputs": [
    {
     "output_type": "stream",
     "name": "stdout",
     "text": [
      "Python Java\n",
      "Python Java\n"
     ]
    }
   ],
   "source": [
    "import sys\n",
    "print(\"Python\",\"Java\", file=sys.stdout) # 표준 출력\n",
    "print(\"Python\",\"Java\", file=sys.stderr) # 표준 에러"
   ]
  },
  {
   "cell_type": "code",
   "execution_count": 14,
   "metadata": {},
   "outputs": [
    {
     "output_type": "stream",
     "name": "stdout",
     "text": [
      "수학      :   0\n영어      :  50\n코딩      : 100\n"
     ]
    }
   ],
   "source": [
    "# 시험 성적 정형화된 format으로 출력\n",
    "scores = {\"수학\": 0, \"영어\":50, \"코딩\":100}\n",
    "for subject, score in scores.items(): # key와 value를 tuple로 보냄\n",
    "    # print(subject, score)\n",
    "    print(subject.ljust(8), str(score).rjust(4), sep=\":\")\n",
    "    # 8개 공간, 왼쪽 정렬 , 4개 공간 확보 후 오른쪽 정렬"
   ]
  },
  {
   "cell_type": "code",
   "execution_count": 16,
   "metadata": {},
   "outputs": [
    {
     "output_type": "stream",
     "name": "stdout",
     "text": [
      "대기번호 : 001\n대기번호 : 002\n대기번호 : 003\n대기번호 : 004\n대기번호 : 005\n대기번호 : 006\n대기번호 : 007\n대기번호 : 008\n대기번호 : 009\n대기번호 : 010\n대기번호 : 011\n대기번호 : 012\n대기번호 : 013\n대기번호 : 014\n대기번호 : 015\n대기번호 : 016\n대기번호 : 017\n대기번호 : 018\n대기번호 : 019\n대기번호 : 020\n"
     ]
    }
   ],
   "source": [
    "# 은행 대기 순번표\n",
    "# 001, 002, 003, ...\n",
    "for num in range(1,21):\n",
    "    print(\"대기번호 : \"+str(num).zfill(3))\n"
   ]
  },
  {
   "cell_type": "code",
   "execution_count": 19,
   "metadata": {},
   "outputs": [
    {
     "output_type": "stream",
     "name": "stdout",
     "text": [
      "입력하신 값은 10입니다.\n"
     ]
    }
   ],
   "source": [
    "# 입출력\n",
    "# 사용자 입력을 통해서 값을 받으면 항상 문자열로 인식한다. \n",
    "answer = input(\"아무 값이나 입력하세요 : \")\n",
    "print(\"입력하신 값은 \"+ answer+\"입니다.\")"
   ]
  }
 ]
}