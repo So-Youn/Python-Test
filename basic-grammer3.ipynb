{
 "metadata": {
  "language_info": {
   "codemirror_mode": {
    "name": "ipython",
    "version": 3
   },
   "file_extension": ".py",
   "mimetype": "text/x-python",
   "name": "python",
   "nbconvert_exporter": "python",
   "pygments_lexer": "ipython3",
   "version": "3.7.6-final"
  },
  "orig_nbformat": 2,
  "kernelspec": {
   "name": "python3",
   "display_name": "Python 3.7.6 64-bit",
   "metadata": {
    "interpreter": {
     "hash": "f85f59fea98d3427f7f616213d7ec4f299ddb9836e2016343160139db0cd9b6c"
    }
   }
  }
 },
 "nbformat": 4,
 "nbformat_minor": 2,
 "cells": [
  {
   "source": [
    "# 리스트\n",
    "> 자료형에 구애받지 않고 사용할 수 있다.\n",
    "> 다양한 자료형과 함께 사용 가능.\n",
    "\n",
    "* `index` : 위치 찾기\n",
    "* `append` : 추가\n",
    "* `insert(index,object)` \n",
    "* `pop` : 뒤에서 부터 꺼내기\n"
   ],
   "cell_type": "markdown",
   "metadata": {}
  },
  {
   "cell_type": "code",
   "execution_count": 20,
   "metadata": {},
   "outputs": [
    {
     "output_type": "stream",
     "name": "stdout",
     "text": [
      "[10, 20, 30]\n['유재석', '조세호', '박명수']\n1\n['유재석', '조세호', '박명수', '하하']\n['유재석', '정형돈', '조세호', '박명수', '하하']\n하하\n['유재석', '정형돈', '조세호', '박명수']\n"
     ]
    }
   ],
   "source": [
    "subway = [10,20,30]\n",
    "print(subway)\n",
    "\n",
    "subway = [\"유재석\", \"조세호\", \"박명수\"]\n",
    "print(subway)\n",
    "\n",
    "# 조세호가 몇 번째 칸에 타고 있는가?\n",
    "print(subway.index(\"조세호\"))\n",
    "\n",
    "# 하하가 다음 정류장에서 탐\n",
    "subway.append(\"하하\")\n",
    "print(subway)\n",
    "\n",
    "# 정형돈을 유재석과 조세호 사이에 태워봄\n",
    "subway.insert(1,\"정형돈\")\n",
    "print(subway)\n",
    "\n",
    "print(subway.pop()) # 맨 마지막 꺼내지는 사람 출력\n",
    "print(subway)\n"
   ]
  },
  {
   "cell_type": "code",
   "execution_count": 21,
   "metadata": {},
   "outputs": [
    {
     "output_type": "stream",
     "name": "stdout",
     "text": [
      "['유재석', '정형돈', '조세호', '박명수', '유재석']\n2\n"
     ]
    }
   ],
   "source": [
    "# 같은 이름의 사람이 몇 명 있는가?\n",
    "subway.append(\"유재석\")\n",
    "print(subway)\n",
    "print(subway.count(\"유재석\"))"
   ]
  },
  {
   "cell_type": "code",
   "execution_count": 25,
   "metadata": {},
   "outputs": [
    {
     "output_type": "stream",
     "name": "stdout",
     "text": [
      "[1, 2, 3, 4, 5]\n[5, 4, 3, 2, 1]\n[]\n"
     ]
    }
   ],
   "source": [
    "# 정렬\n",
    "num_list = [5,2,4,3,1]\n",
    "num_list.sort()\n",
    "print(num_list)\n",
    "\n",
    "# 순서 뒤집기\n",
    "num_list.reverse()\n",
    "print(num_list)\n",
    "\n",
    "# 모두 지우기\n",
    "num_list.clear()\n",
    "print(num_list) # []"
   ]
  },
  {
   "cell_type": "code",
   "execution_count": 35,
   "metadata": {},
   "outputs": [
    {
     "output_type": "stream",
     "name": "stdout",
     "text": [
      "['조세호', 20, True]\n[5, 2, 4, 3, 1, '조세호', 20, True]\n"
     ]
    }
   ],
   "source": [
    "# 다양한 자료형\n",
    "num_list = [5,2,4,3,1]\n",
    "mix_list = ['조세호', 20 , True]\n",
    "print(mix_list)\n",
    "\n",
    "# 리스트 확장(합치기)\n",
    "num_list.extend(mix_list)\n",
    "print(num_list)"
   ]
  },
  {
   "cell_type": "code",
   "execution_count": null,
   "metadata": {},
   "outputs": [],
   "source": []
  },
  {
   "source": [
    "# 딕셔너리\n",
    "> key와 value 형태로 사용\n",
    "> key에 대한 중복이 허용되지 않는다.\n",
    "\n",
    "* get : 값이 없을 때 오류 발생하지 않고 `None` 출력\n",
    "* `key in 변수` : key가 변수 안에 존재하면 True 출력"
   ],
   "cell_type": "markdown",
   "metadata": {}
  },
  {
   "cell_type": "code",
   "execution_count": 43,
   "metadata": {},
   "outputs": [
    {
     "output_type": "stream",
     "name": "stdout",
     "text": [
      "유재석\n김태호\nNone\n사용 가능\nTrue\nFalse\n"
     ]
    }
   ],
   "source": [
    "cabinet = {3:\"유재석\", 100:\"김태호\"}\n",
    "print(cabinet[3]) # key값\n",
    "print(cabinet.get(100))\n",
    " \n",
    "# print(cabinet[5]) # 오류 발생\n",
    "print(cabinet.get(5)) \n",
    "# 있으면 값 출력, 없으면 '사용 가능' 출력\n",
    "print(cabinet.get(5, \"사용 가능\")) \n",
    "\n",
    "print(3 in cabinet) # True\n",
    "print(5 in cabinet) # False\n",
    "\n"
   ]
  },
  {
   "cell_type": "code",
   "execution_count": 6,
   "metadata": {},
   "outputs": [
    {
     "output_type": "stream",
     "name": "stdout",
     "text": [
      "유재석\n{'A-3': '유재석', 'B-100': '김태호', 'C-20': '조세호'}\n{'A-3': '김종국', 'B-100': '김태호', 'C-20': '조세호'}\n{'B-100': '김태호', 'C-20': '조세호'}\ndict_keys(['B-100', 'C-20'])\ndict_values(['김태호', '조세호'])\ndict_items([('B-100', '김태호'), ('C-20', '조세호')])\n{}\n"
     ]
    }
   ],
   "source": [
    "cabinet = {\"A-3\" : \"유재석\", \"B-100\":\"김태호\"}\n",
    "print(cabinet[\"A-3\"])\n",
    "# key 추가\n",
    "cabinet[\"C-20\"] = \"조세호\"\n",
    "print(cabinet)\n",
    "# 값 update\n",
    "cabinet[\"A-3\"] = \"김종국\"\n",
    "print(cabinet)\n",
    "\n",
    "# 값 삭제\n",
    "del cabinet[\"A-3\"]\n",
    "print(cabinet)\n",
    "\n",
    "# key만 출력\n",
    "print(cabinet.keys())\n",
    "# value만 출력\n",
    "print(cabinet.values())\n",
    "\n",
    "# key, value 쌍으로 출력\n",
    "print(cabinet.items())\n",
    "\n",
    "# 모두 삭제\n",
    "cabinet.clear()\n",
    "print(cabinet)"
   ]
  },
  {
   "cell_type": "code",
   "execution_count": null,
   "metadata": {},
   "outputs": [],
   "source": []
  }
 ]
}